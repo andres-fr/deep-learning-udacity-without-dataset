{
 "cells": [
  {
   "cell_type": "markdown",
   "metadata": {
    "colab_type": "text",
    "id": "kR-4eNdK6lYS"
   },
   "source": [
    "Deep Learning\n",
    "=============\n",
    "\n",
    "Assignment 3\n",
    "------------\n",
    "\n",
    "Previously in `2_fullyconnected.ipynb`, you trained a logistic regression and a neural network model.\n",
    "\n",
    "The goal of this assignment is to explore regularization techniques."
   ]
  },
  {
   "cell_type": "code",
   "execution_count": 1,
   "metadata": {
    "cellView": "both",
    "colab": {
     "autoexec": {
      "startup": false,
      "wait_interval": 0
     }
    },
    "colab_type": "code",
    "collapsed": true,
    "id": "JLpLa8Jt7Vu4"
   },
   "outputs": [],
   "source": [
    "# These are all the modules we'll be using later. Make sure you can import them\n",
    "# before proceeding further.\n",
    "from __future__ import print_function\n",
    "import numpy as np\n",
    "import tensorflow as tf\n",
    "from six.moves import cPickle as pickle"
   ]
  },
  {
   "cell_type": "markdown",
   "metadata": {
    "colab_type": "text",
    "id": "1HrCK6e17WzV"
   },
   "source": [
    "First reload the data we generated in _notmist.ipynb_."
   ]
  },
  {
   "cell_type": "code",
   "execution_count": 2,
   "metadata": {
    "cellView": "both",
    "colab": {
     "autoexec": {
      "startup": false,
      "wait_interval": 0
     },
     "output_extras": [
      {
       "item_id": 1
      }
     ]
    },
    "colab_type": "code",
    "collapsed": false,
    "executionInfo": {
     "elapsed": 11777,
     "status": "ok",
     "timestamp": 1449849322348,
     "user": {
      "color": "",
      "displayName": "",
      "isAnonymous": false,
      "isMe": true,
      "permissionId": "",
      "photoUrl": "",
      "sessionId": "0",
      "userId": ""
     },
     "user_tz": 480
    },
    "id": "y3-cj1bpmuxc",
    "outputId": "e03576f1-ebbe-4838-c388-f1777bcc9873"
   },
   "outputs": [
    {
     "name": "stdout",
     "output_type": "stream",
     "text": [
      "Training set (187205, 28, 28) (187205,)\n",
      "Validation set (8934, 28, 28) (8934,)\n",
      "Test set (8745, 28, 28) (8745,)\n"
     ]
    }
   ],
   "source": [
    "pickle_file = 'notMNIST_sanitized.pickle'\n",
    "\n",
    "with open(pickle_file, 'rb') as f:\n",
    "  save = pickle.load(f)\n",
    "  train_dataset = save['train_dataset']\n",
    "  train_labels = save['train_labels']\n",
    "  valid_dataset = save['valid_dataset']\n",
    "  valid_labels = save['valid_labels']\n",
    "  test_dataset = save['test_dataset']\n",
    "  test_labels = save['test_labels']\n",
    "  del save  # hint to help gc free up memory\n",
    "  print('Training set', train_dataset.shape, train_labels.shape)\n",
    "  print('Validation set', valid_dataset.shape, valid_labels.shape)\n",
    "  print('Test set', test_dataset.shape, test_labels.shape)"
   ]
  },
  {
   "cell_type": "markdown",
   "metadata": {
    "colab_type": "text",
    "id": "L7aHrm6nGDMB"
   },
   "source": [
    "Reformat into a shape that's more adapted to the models we're going to train:\n",
    "- data as a flat matrix,\n",
    "- labels as float 1-hot encodings."
   ]
  },
  {
   "cell_type": "code",
   "execution_count": 3,
   "metadata": {
    "cellView": "both",
    "colab": {
     "autoexec": {
      "startup": false,
      "wait_interval": 0
     },
     "output_extras": [
      {
       "item_id": 1
      }
     ]
    },
    "colab_type": "code",
    "collapsed": false,
    "executionInfo": {
     "elapsed": 11728,
     "status": "ok",
     "timestamp": 1449849322356,
     "user": {
      "color": "",
      "displayName": "",
      "isAnonymous": false,
      "isMe": true,
      "permissionId": "",
      "photoUrl": "",
      "sessionId": "0",
      "userId": ""
     },
     "user_tz": 480
    },
    "id": "IRSyYiIIGIzS",
    "outputId": "3f8996ee-3574-4f44-c953-5c8a04636582"
   },
   "outputs": [
    {
     "name": "stdout",
     "output_type": "stream",
     "text": [
      "Training set (187205, 784) (187205, 10)\n",
      "Validation set (8934, 784) (8934, 10)\n",
      "Test set (8745, 784) (8745, 10)\n"
     ]
    }
   ],
   "source": [
    "image_size = 28\n",
    "num_labels = 10\n",
    "\n",
    "def reformat(dataset, labels):\n",
    "  dataset = dataset.reshape((-1, image_size * image_size)).astype(np.float32)\n",
    "  # Map 2 to [0.0, 1.0, 0.0 ...], 3 to [0.0, 0.0, 1.0 ...]\n",
    "  labels = (np.arange(num_labels) == labels[:,None]).astype(np.float32)\n",
    "  return dataset, labels\n",
    "train_dataset, train_labels = reformat(train_dataset, train_labels)\n",
    "valid_dataset, valid_labels = reformat(valid_dataset, valid_labels)\n",
    "test_dataset, test_labels = reformat(test_dataset, test_labels)\n",
    "print('Training set', train_dataset.shape, train_labels.shape)\n",
    "print('Validation set', valid_dataset.shape, valid_labels.shape)\n",
    "print('Test set', test_dataset.shape, test_labels.shape)"
   ]
  },
  {
   "cell_type": "code",
   "execution_count": 4,
   "metadata": {
    "cellView": "both",
    "colab": {
     "autoexec": {
      "startup": false,
      "wait_interval": 0
     }
    },
    "colab_type": "code",
    "collapsed": true,
    "id": "RajPLaL_ZW6w"
   },
   "outputs": [],
   "source": [
    "def accuracy(predictions, labels):\n",
    "  return (100.0 * np.sum(np.argmax(predictions, 1) == np.argmax(labels, 1))\n",
    "          / predictions.shape[0])"
   ]
  },
  {
   "cell_type": "markdown",
   "metadata": {
    "colab_type": "text",
    "id": "sgLbUAQ1CW-1"
   },
   "source": [
    "---\n",
    "Problem 1\n",
    "---------\n",
    "\n",
    "Introduce and tune L2 regularization for both logistic and neural network models. Remember that L2 amounts to adding a penalty on the norm of the weights to the loss. In TensorFlow, you can compute the L2 loss for a tensor `t` using `nn.l2_loss(t)`. The right amount of regularization should improve your validation / test accuracy.\n",
    "\n",
    "---"
   ]
  },
  {
   "cell_type": "code",
   "execution_count": 5,
   "metadata": {
    "collapsed": false
   },
   "outputs": [],
   "source": [
    "# GLOBALS, HYPERPARS\n",
    "batch_size = 128\n",
    "beta = 0.001 # L2 regularization parameter\n",
    "LR_SIGMA = 0.05 # sigmas are the standard dev. for the weight initializations\n",
    "RELU_SIGMA = 0.05\n",
    "NN_SIGMA = 0.05\n",
    "\n",
    "# BOTH LOGISTIC AND NN GRAPH WITH SGD AND REGULARIZATION\n",
    "graph = tf.Graph()\n",
    "with graph.as_default():\n",
    "    # inputs\n",
    "    tf_train_dataset = tf.placeholder(tf.float32, shape=(batch_size, image_size * image_size))\n",
    "    tf_train_labels = tf.placeholder(tf.float32, shape=(batch_size, num_labels))\n",
    "    tf_valid_dataset = tf.constant(valid_dataset)\n",
    "    tf_test_dataset = tf.constant(test_dataset)\n",
    "    # variables\n",
    "    lr_weights = tf.Variable(tf.truncated_normal([image_size * image_size, num_labels], stddev=LR_SIGMA))\n",
    "    lr_biases = tf.Variable(tf.zeros([num_labels]))\n",
    "    relu_weights = tf.Variable(tf.truncated_normal([image_size * image_size, 1024], stddev=RELU_SIGMA))\n",
    "    relu_biases = tf.Variable(tf.zeros([1024]))\n",
    "    nn_weights = tf.Variable(tf.truncated_normal([1024, num_labels], stddev=NN_SIGMA))\n",
    "    nn_biases = tf.Variable(tf.zeros([num_labels]))\n",
    "    # Training computation.\n",
    "    lr_logits = tf.matmul(tf_train_dataset, lr_weights) + lr_biases\n",
    "    lr_loss = tf.reduce_mean(tf.nn.softmax_cross_entropy_with_logits(lr_logits, tf_train_labels))\n",
    "    lr_loss = lr_loss + 0.5*beta*tf.nn.l2_loss(lr_weights) # REGULARIZATION\n",
    "    \n",
    "    relus = tf.nn.relu(tf.matmul(tf_train_dataset, relu_weights)+relu_biases)\n",
    "    nn_logits = tf.matmul(relus, nn_weights) + nn_biases\n",
    "    nn_loss = tf.reduce_mean(tf.nn.softmax_cross_entropy_with_logits(nn_logits, tf_train_labels))\n",
    "    all_nn_weights = tf.concat(0, [tf.reshape(relu_weights, [-1]), tf.reshape(nn_weights, [-1])])\n",
    "    nn_loss = nn_loss + 0.5*beta*tf.nn.l2_loss(all_nn_weights)\n",
    "    # Optimizers\n",
    "    lr_optimizer = tf.train.GradientDescentOptimizer(0.5).minimize(lr_loss)\n",
    "    nn_optimizer = tf.train.GradientDescentOptimizer(0.5).minimize(nn_loss)\n",
    "    # LOGREG Predictions for the training, validation, and test data.\n",
    "    lr_train_prediction = tf.nn.softmax(lr_logits)\n",
    "    lr_valid_prediction = tf.nn.softmax(tf.matmul(tf_valid_dataset, lr_weights) + lr_biases)\n",
    "    lr_test_prediction = tf.nn.softmax(tf.matmul(tf_test_dataset, lr_weights) + lr_biases)\n",
    "    # NN Predictions for the training, validation, and test data.\n",
    "    nn_train_prediction = tf.nn.softmax(nn_logits)\n",
    "    val_relus = tf.nn.relu(tf.matmul(tf_valid_dataset, relu_weights) + relu_biases)\n",
    "    nn_valid_prediction = tf.nn.softmax(tf.matmul(val_relus, nn_weights) + nn_biases)\n",
    "    test_relus = tf.nn.relu(tf.matmul(tf_test_dataset, relu_weights) + relu_biases)\n",
    "    nn_test_prediction = tf.nn.softmax(tf.matmul(test_relus, nn_weights) + nn_biases)\n",
    "    \n"
   ]
  },
  {
   "cell_type": "code",
   "execution_count": 6,
   "metadata": {
    "collapsed": false
   },
   "outputs": [
    {
     "name": "stdout",
     "output_type": "stream",
     "text": [
      "Initialized\n",
      "--------------\n",
      "Minibatch loss at step 0:\tLR: 2.441280\tNN:2.839565\n",
      "Minibatch accuracy:       \tLR: 10.9%\tNN: 10.9%\n",
      "Validation accuracy:      \tLR: 42.3%\tNN: 27.8%\n",
      "--------------\n",
      "Minibatch loss at step 500:\tLR: 0.547208\tNN:0.737446\n",
      "Minibatch accuracy:       \tLR: 85.2%\tNN: 91.4%\n",
      "Validation accuracy:      \tLR: 81.2%\tNN: 84.8%\n",
      "--------------\n",
      "Minibatch loss at step 1000:\tLR: 0.771057\tNN:0.744402\n",
      "Minibatch accuracy:       \tLR: 78.1%\tNN: 86.7%\n",
      "Validation accuracy:      \tLR: 81.1%\tNN: 86.2%\n",
      "--------------\n",
      "Minibatch loss at step 1500:\tLR: 0.535385\tNN:0.560910\n",
      "Minibatch accuracy:       \tLR: 84.4%\tNN: 88.3%\n",
      "Validation accuracy:      \tLR: 80.9%\tNN: 86.8%\n",
      "--------------\n",
      "Minibatch loss at step 2000:\tLR: 0.582003\tNN:0.604677\n",
      "Minibatch accuracy:       \tLR: 83.6%\tNN: 89.1%\n",
      "Validation accuracy:      \tLR: 80.0%\tNN: 87.2%\n",
      "--------------\n",
      "Minibatch loss at step 2500:\tLR: 0.802010\tNN:0.604626\n",
      "Minibatch accuracy:       \tLR: 74.2%\tNN: 86.7%\n",
      "Validation accuracy:      \tLR: 80.7%\tNN: 87.6%\n",
      "--------------\n",
      "Minibatch loss at step 3000:\tLR: 0.429877\tNN:0.426099\n",
      "Minibatch accuracy:       \tLR: 87.5%\tNN: 92.2%\n",
      "Validation accuracy:      \tLR: 81.4%\tNN: 88.1%\n",
      "\n",
      "\n",
      "LOGREG Test accuracy: 88.7%\n",
      "NN Test accuracy: 94.1%\n"
     ]
    }
   ],
   "source": [
    "# RUN LR AND NN:\n",
    "\n",
    "num_steps = 3001\n",
    "\n",
    "with tf.Session(graph=graph) as session:\n",
    "    tf.initialize_all_variables().run()\n",
    "    print(\"Initialized\")\n",
    "    for step in range(num_steps):\n",
    "        # Pick an offset within the training data, which has been randomized.\n",
    "        # Note: we could use better randomization across epochs.\n",
    "        offset = (step * batch_size) % (train_labels.shape[0] - batch_size)\n",
    "        # Generate a minibatch.\n",
    "        batch_data = train_dataset[offset:(offset + batch_size), :]\n",
    "        batch_labels = train_labels[offset:(offset + batch_size), :]\n",
    "        # Prepare a dictionary telling the session where to feed the minibatch.\n",
    "        # The key of the dictionary is the placeholder node of the graph to be fed,\n",
    "        # and the value is the numpy array to feed to it.\n",
    "        feed_dict = {tf_train_dataset : batch_data, tf_train_labels : batch_labels}\n",
    "        # RUN OPTIMIZATION ON LR AND NN\n",
    "        _, l, lr_pred, _, k, nn_pred = session.run([lr_optimizer, lr_loss, lr_train_prediction,\n",
    "                                                    nn_optimizer, nn_loss, nn_train_prediction],\n",
    "                                                    feed_dict=feed_dict)\n",
    "        if (step % 500 == 0):\n",
    "            print(\"--------------\")\n",
    "            print(\"Minibatch loss at step %d:\\tLR: %f\\tNN:%f\" % (step, l, k))\n",
    "            print(\"Minibatch accuracy:       \\tLR: %.1f%%\\tNN: %.1f%%\" % (accuracy(lr_pred, batch_labels),\n",
    "                                                                           accuracy(nn_pred, batch_labels)))\n",
    "            print(\"Validation accuracy:      \\tLR: %.1f%%\\tNN: %.1f%%\" % (accuracy(lr_valid_prediction.eval(),\n",
    "                                                                                  valid_labels),\n",
    "                                                                          accuracy(nn_valid_prediction.eval(),\n",
    "                                                                                  valid_labels)))\n",
    "    print(\"\\n\\nLOGREG Test accuracy: %.1f%%\" % accuracy(lr_test_prediction.eval(), test_labels))\n",
    "    print(\"NN Test accuracy: %.1f%%\" % accuracy(nn_test_prediction.eval(), test_labels))\n"
   ]
  },
  {
   "cell_type": "markdown",
   "metadata": {
    "colab_type": "text",
    "id": "na8xX2yHZzNF"
   },
   "source": [
    "---\n",
    "Problem 2\n",
    "---------\n",
    "Let's demonstrate an extreme case of overfitting. Restrict your training data to just a few batches. What happens?\n",
    "\n",
    "---"
   ]
  },
  {
   "cell_type": "code",
   "execution_count": 156,
   "metadata": {
    "collapsed": false
   },
   "outputs": [
    {
     "data": {
      "text/plain": [
       "'\\nInitialized\\n--------------\\nMinibatch loss at step 0:\\tLR: 21.051445\\tNN:534.638855\\nMinibatch accuracy:       \\tLR: 9.4%\\tNN: 6.2%\\nValidation accuracy:      \\tLR: 9.9%\\tNN: 30.1%\\n--------------\\nMinibatch loss at step 500:\\tLR: 1.540762\\tNN:123.309959\\nMinibatch accuracy:       \\tLR: 85.2%\\tNN: 98.4%\\nValidation accuracy:      \\tLR: 68.9%\\tNN: 77.3%\\n--------------\\nMinibatch loss at step 1000:\\tLR: 0.965978\\tNN:95.340683\\nMinibatch accuracy:       \\tLR: 93.8%\\tNN: 100.0%\\nValidation accuracy:      \\tLR: 70.3%\\tNN: 77.1%\\n--------------\\nMinibatch loss at step 1500:\\tLR: 0.801078\\tNN:74.263443\\nMinibatch accuracy:       \\tLR: 97.7%\\tNN: 100.0%\\nValidation accuracy:      \\tLR: 71.0%\\tNN: 77.1%\\n--------------\\nMinibatch loss at step 2000:\\tLR: 0.620670\\tNN:57.823566\\nMinibatch accuracy:       \\tLR: 100.0%\\tNN: 100.0%\\nValidation accuracy:      \\tLR: 71.5%\\tNN: 77.0%\\n--------------\\nMinibatch loss at step 2500:\\tLR: 0.540674\\tNN:45.031559\\nMinibatch accuracy:       \\tLR: 99.2%\\tNN: 100.0%\\nValidation accuracy:      \\tLR: 72.2%\\tNN: 77.1%\\n--------------\\nMinibatch loss at step 3000:\\tLR: 0.469894\\tNN:35.069641\\nMinibatch accuracy:       \\tLR: 98.4%\\tNN: 100.0%\\nValidation accuracy:      \\tLR: 72.5%\\tNN: 77.2%\\n\\n\\nLOGREG Test accuracy: 80.6%\\nNN Test accuracy: 85.1%\\n\\n'"
      ]
     },
     "execution_count": 156,
     "metadata": {},
     "output_type": "execute_result"
    }
   ],
   "source": [
    "# uncomment and eval below and run session to test\n",
    "# train_dataset = train_dataset[0:3000]\n",
    "# train_labels = train_labels[0:3000]\n",
    "\n",
    "# results show overfitting since every batch has around 100% precission and tests are below 85%\n",
    "\"\"\"\n",
    "Initialized\n",
    "--------------\n",
    "Minibatch loss at step 0:\tLR: 21.051445\tNN:534.638855\n",
    "Minibatch accuracy:       \tLR: 9.4%\tNN: 6.2%\n",
    "Validation accuracy:      \tLR: 9.9%\tNN: 30.1%\n",
    "--------------\n",
    "Minibatch loss at step 500:\tLR: 1.540762\tNN:123.309959\n",
    "Minibatch accuracy:       \tLR: 85.2%\tNN: 98.4%\n",
    "Validation accuracy:      \tLR: 68.9%\tNN: 77.3%\n",
    "--------------\n",
    "Minibatch loss at step 1000:\tLR: 0.965978\tNN:95.340683\n",
    "Minibatch accuracy:       \tLR: 93.8%\tNN: 100.0%\n",
    "Validation accuracy:      \tLR: 70.3%\tNN: 77.1%\n",
    "--------------\n",
    "Minibatch loss at step 1500:\tLR: 0.801078\tNN:74.263443\n",
    "Minibatch accuracy:       \tLR: 97.7%\tNN: 100.0%\n",
    "Validation accuracy:      \tLR: 71.0%\tNN: 77.1%\n",
    "--------------\n",
    "Minibatch loss at step 2000:\tLR: 0.620670\tNN:57.823566\n",
    "Minibatch accuracy:       \tLR: 100.0%\tNN: 100.0%\n",
    "Validation accuracy:      \tLR: 71.5%\tNN: 77.0%\n",
    "--------------\n",
    "Minibatch loss at step 2500:\tLR: 0.540674\tNN:45.031559\n",
    "Minibatch accuracy:       \tLR: 99.2%\tNN: 100.0%\n",
    "Validation accuracy:      \tLR: 72.2%\tNN: 77.1%\n",
    "--------------\n",
    "Minibatch loss at step 3000:\tLR: 0.469894\tNN:35.069641\n",
    "Minibatch accuracy:       \tLR: 98.4%\tNN: 100.0%\n",
    "Validation accuracy:      \tLR: 72.5%\tNN: 77.2%\n",
    "\n",
    "\n",
    "LOGREG Test accuracy: 80.6%\n",
    "NN Test accuracy: 85.1%\n",
    "\n",
    "\"\"\"\n",
    "\"\""
   ]
  },
  {
   "cell_type": "markdown",
   "metadata": {
    "colab_type": "text",
    "id": "ww3SCBUdlkRc"
   },
   "source": [
    "---\n",
    "Problem 3\n",
    "---------\n",
    "Introduce Dropout on the hidden layer of the neural network. Remember: Dropout should only be introduced during training, not evaluation, otherwise your evaluation results would be stochastic as well. TensorFlow provides `nn.dropout()` for that, but you have to make sure it's only inserted during training.\n",
    "\n",
    "What happens to our extreme overfitting case?\n",
    "\n",
    "---"
   ]
  },
  {
   "cell_type": "code",
   "execution_count": 159,
   "metadata": {
    "collapsed": true
   },
   "outputs": [],
   "source": [
    "# with 3000 samples and 1500 iterations over 128-batches, the dropout with no beta shows regul. effect,\n",
    "# with dropout=1 was batch=100% and test=86%, with dropout=0.2 is batch=79% and test88%\n",
    "\n",
    "# GLOBALS, HYPERPARS\n",
    "\n",
    "beta = 0 # L2 regularization parameter\n",
    "DROPOUT = 0.2\n",
    "RELU_SIGMA = 0.05\n",
    "NN_SIGMA = 0.05\n",
    "\n",
    "# NN GRAPH WITH SGD AND REGULARIZATION\n",
    "graph = tf.Graph()\n",
    "with graph.as_default():\n",
    "    # inputs\n",
    "    tf_train_dataset = tf.placeholder(tf.float32, shape=(batch_size, image_size * image_size))\n",
    "    tf_train_labels = tf.placeholder(tf.float32, shape=(batch_size, num_labels))\n",
    "    tf_valid_dataset = tf.constant(valid_dataset)\n",
    "    tf_test_dataset = tf.constant(test_dataset)\n",
    "    # variables\n",
    "    relu_weights = tf.Variable(tf.truncated_normal([image_size * image_size, 1024], stddev=RELU_SIGMA))\n",
    "    relu_biases = tf.Variable(tf.zeros([1024]))\n",
    "    nn_weights = tf.Variable(tf.truncated_normal([1024, num_labels], stddev=NN_SIGMA))\n",
    "    nn_biases = tf.Variable(tf.zeros([num_labels]))\n",
    "    # Training computation.\n",
    "    relus = tf.nn.relu(tf.matmul(tf_train_dataset, relu_weights)+relu_biases)\n",
    "    relus = tf.nn.dropout(relus, DROPOUT)\n",
    "    nn_logits = tf.matmul(relus, nn_weights) + nn_biases\n",
    "    nn_loss = tf.reduce_mean(tf.nn.softmax_cross_entropy_with_logits(nn_logits, tf_train_labels))\n",
    "    all_nn_weights = tf.concat(0, [tf.reshape(relu_weights, [-1]), tf.reshape(nn_weights, [-1])])\n",
    "    nn_loss = nn_loss + 0.5*beta*tf.nn.l2_loss(all_nn_weights)\n",
    "    # Optimizers\n",
    "    nn_optimizer = tf.train.GradientDescentOptimizer(0.5).minimize(nn_loss)\n",
    "    # NN Predictions for the training, validation, and test data.\n",
    "    nn_train_prediction = tf.nn.softmax(nn_logits)\n",
    "    val_relus = tf.nn.relu(tf.matmul(tf_valid_dataset, relu_weights) + relu_biases)\n",
    "    nn_valid_prediction = tf.nn.softmax(tf.matmul(val_relus, nn_weights) + nn_biases)\n",
    "    test_relus = tf.nn.relu(tf.matmul(tf_test_dataset, relu_weights) + relu_biases)\n",
    "    nn_test_prediction = tf.nn.softmax(tf.matmul(test_relus, nn_weights) + nn_biases)"
   ]
  },
  {
   "cell_type": "code",
   "execution_count": 160,
   "metadata": {
    "collapsed": false
   },
   "outputs": [
    {
     "name": "stdout",
     "output_type": "stream",
     "text": [
      "Initialized\n",
      "Minibatch loss at step 0: 3.105777\n",
      "Minibatch accuracy: 8.6%\n",
      "Validation accuracy: 27.8%\n",
      "Minibatch loss at step 500: 0.727504\n",
      "Minibatch accuracy: 89.8%\n",
      "Validation accuracy: 80.5%\n",
      "Minibatch loss at step 1000: 0.787389\n",
      "Minibatch accuracy: 86.7%\n",
      "Validation accuracy: 80.9%\n",
      "Minibatch loss at step 1500: 1.050211\n",
      "Minibatch accuracy: 79.7%\n",
      "Validation accuracy: 80.9%\n",
      "Test accuracy: 88.6%\n"
     ]
    }
   ],
   "source": [
    "# RUN NN\n",
    "num_steps = 1501\n",
    "batch_size = 128\n",
    "\n",
    "with tf.Session(graph=graph) as session:\n",
    "    tf.initialize_all_variables().run()\n",
    "    print(\"Initialized\")\n",
    "    for step in range(num_steps):\n",
    "        offset = (step * batch_size) % (train_labels.shape[0] - batch_size)\n",
    "        batch_data = train_dataset[offset:(offset + batch_size), :]\n",
    "        batch_labels = train_labels[offset:(offset + batch_size), :]\n",
    "        feed_dict = {tf_train_dataset : batch_data, tf_train_labels : batch_labels}\n",
    "        # RUN OPTIMIZATION ON LR AND NN\n",
    "        _, l, nn_pred = session.run([nn_optimizer, nn_loss, nn_train_prediction], feed_dict=feed_dict)\n",
    "        if (step % 500 == 0):\n",
    "            print(\"Minibatch loss at step %d: %f\" % (step, l))\n",
    "            print(\"Minibatch accuracy: %.1f%%\" % accuracy(nn_pred, batch_labels))\n",
    "            print(\"Validation accuracy: %.1f%%\" % accuracy(nn_valid_prediction.eval(), valid_labels))\n",
    "    print(\"Test accuracy: %.1f%%\" % accuracy(nn_test_prediction.eval(), test_labels))"
   ]
  },
  {
   "cell_type": "markdown",
   "metadata": {
    "colab_type": "text",
    "id": "-b1hTz3VWZjw"
   },
   "source": [
    "---\n",
    "Problem 4\n",
    "---------\n",
    "\n",
    "Try to get the best performance you can using a multi-layer model! The best reported test accuracy using a deep network is [97.1%](http://yaroslavvb.blogspot.com/2011/09/notmnist-dataset.html?showComment=1391023266211#c8758720086795711595).\n",
    "\n",
    "One avenue you can explore is to add multiple layers.\n",
    "\n",
    "Another one is to use learning rate decay:\n",
    "\n",
    "    global_step = tf.Variable(0)  # count the number of steps taken.\n",
    "    learning_rate = tf.train.exponential_decay(0.5, global_step, ...)\n",
    "    optimizer = tf.train.GradientDescentOptimizer(learning_rate).minimize(loss, global_step=global_step)\n",
    " \n",
    " ---\n",
    "\n",
    "\n",
    "Trial 1:\n",
    "the same 2-layer NN with momentum optimizerand exp learn decay:\n",
    "\n",
    "    BETA = 0.001 # L2 regularization parameter\n",
    "    DROPOUT = 1 # 1 means no dropout, as the \"passing\" ratio\n",
    "    RELU_SIGMA = 0.05\n",
    "    NN_SIGMA = 0.01\n",
    "    INIT_ALPHA = 0.08\n",
    "    ALPHA_DECAY = 0.95\n",
    "    MOMENTUM =0.5\n",
    "    batch_size = 128\n",
    "    num_steps = 20001\n",
    "\n",
    "    Minibatch loss at step 20000: 0.363097\n",
    "    Minibatch accuracy: 93.0%\n",
    "    Validation accuracy: 90.0%\n",
    "    Test accuracy: 95.2%\n",
    "\n",
    "\n"
   ]
  },
  {
   "cell_type": "code",
   "execution_count": 9,
   "metadata": {
    "collapsed": false
   },
   "outputs": [],
   "source": [
    "# DESIGN \"BEST\" NN. CHANGES MADE:\n",
    "# 1)using momentum optimizer instead of gradientdescent and learning rate exp-decay\n",
    "# 2)replace momentum for adam optimizer\n",
    "# 3)MLP (3 layers) with similar parameters as 1: 96% on test\n",
    "\n",
    "import os\n",
    "\n",
    "\n",
    "# GLOBALS, HYPERPARS\n",
    "\n",
    "HID_UNITS_1 = 1024\n",
    "HID_UNITS_2 = 256\n",
    "\n",
    "L2_REG = 0.000 # L2 regularization parameter\n",
    "DROPOUT_1 = 1 # 1 means no dropout, as the \"passing\" ratio\n",
    "DROPOUT_2 = 0.9 # dropout for the 2nd hidden layer\n",
    "RELU_SIGMA = 0.01\n",
    "NN_SIGMA = 0.01\n",
    "INIT_ALPHA = 0.4\n",
    "ALPHA_DECAY = 0.95\n",
    "MOMENTUM =0.3\n",
    "batch_size = 128\n",
    "num_steps = 30001\n",
    "\n",
    "# NN GRAPH WITH SGD AND REGULARIZATION\n",
    "graph = tf.Graph()\n",
    "with graph.as_default():\n",
    "    # inputs\n",
    "    tf_train_dataset = tf.placeholder(tf.float32, shape=(batch_size, image_size * image_size))\n",
    "    tf_train_labels = tf.placeholder(tf.float32, shape=(batch_size, num_labels))\n",
    "    tf_valid_dataset = tf.constant(valid_dataset)\n",
    "    tf_test_dataset = tf.constant(test_dataset)\n",
    "    # variables\n",
    "    relu1_weights = tf.Variable(tf.truncated_normal([image_size * image_size, HID_UNITS_1], stddev=RELU_SIGMA))\n",
    "    relu1_biases = tf.Variable(tf.zeros([HID_UNITS_1]))\n",
    "    relu2_weights = tf.Variable(tf.truncated_normal([HID_UNITS_1, HID_UNITS_2], stddev=RELU_SIGMA))\n",
    "    relu2_biases = tf.Variable(tf.zeros([HID_UNITS_2]))\n",
    "    nn_weights = tf.Variable(tf.truncated_normal([HID_UNITS_2, num_labels], stddev=NN_SIGMA))\n",
    "    nn_biases = tf.Variable(tf.zeros([num_labels]))\n",
    "    # Training computation.\n",
    "    relus1 = tf.nn.relu(tf.matmul(tf_train_dataset, relu1_weights)+relu1_biases)\n",
    "    relus1 = tf.nn.dropout(relus1, DROPOUT_1)\n",
    "    relus2 = tf.nn.relu(tf.matmul(relus1, relu2_weights)+relu2_biases)\n",
    "    relus2 = tf.nn.dropout(relus2, DROPOUT_2)\n",
    "    nn_logits = tf.matmul(relus2, nn_weights) + nn_biases\n",
    "    l2_term = 0.5*L2_REG*(tf.nn.l2_loss(relu1_weights) + tf.nn.l2_loss(relu2_weights) + tf.nn.l2_loss(nn_weights))\n",
    "    nn_loss = tf.reduce_mean(tf.nn.softmax_cross_entropy_with_logits(nn_logits, tf_train_labels)) + l2_term\n",
    "\n",
    "    \n",
    "    # Optimizer: set up a variable that's incremented once per batch and\n",
    "    # controls the learning rate decay.\n",
    "    batch = tf.Variable(0)\n",
    "    # Decay once per epoch, using an exponential schedule starting at 0.01.\n",
    "    learning_rate = tf.train.exponential_decay(\n",
    "        INIT_ALPHA,                # Base learning rate.\n",
    "        batch * batch_size,  # Current index into the dataset.\n",
    "        train_labels.shape[0],          # Decay step.\n",
    "        ALPHA_DECAY,                # Decay rate.\n",
    "        staircase=True)\n",
    "    # Use simple momentum for the optimization.\n",
    "    nn_optimizer = tf.train.MomentumOptimizer(learning_rate,MOMENTUM).minimize(nn_loss,global_step=batch)\n",
    "    #nn_optimizer = tf.train.AdamOptimizer().minimize(nn_loss,global_step=batch)\n",
    "    \n",
    "    # NN Predictions for the training, validation, and test data.\n",
    "    nn_train_prediction = tf.nn.softmax(nn_logits)\n",
    "    val_relus1 = tf.nn.relu(tf.matmul(tf_valid_dataset, relu1_weights) + relu1_biases)\n",
    "    val_relus2 = tf.nn.relu(tf.matmul(val_relus1, relu2_weights) + relu2_biases)\n",
    "    nn_valid_prediction = tf.nn.softmax(tf.matmul(val_relus2, nn_weights) + nn_biases)\n",
    "    test_relus1 = tf.nn.relu(tf.matmul(tf_test_dataset, relu1_weights) + relu1_biases)\n",
    "    test_relus2 = tf.nn.relu(tf.matmul(test_relus1, relu2_weights) + relu2_biases)\n",
    "    nn_test_prediction = tf.nn.softmax(tf.matmul(test_relus2, nn_weights) + nn_biases)"
   ]
  },
  {
   "cell_type": "code",
   "execution_count": 10,
   "metadata": {
    "collapsed": false
   },
   "outputs": [
    {
     "name": "stdout",
     "output_type": "stream",
     "text": [
      "Initialized. Run until 30001 steps\n",
      "Minibatch loss at step 0: 2.302962\n",
      "Minibatch accuracy: 7.8%\n",
      "Validation accuracy: 11.1%\n",
      "Minibatch loss at step 1000: 0.527506\n",
      "Minibatch accuracy: 84.4%\n",
      "Validation accuracy: 86.0%\n",
      "Minibatch loss at step 2000: 0.349766\n",
      "Minibatch accuracy: 89.8%\n",
      "Validation accuracy: 87.6%\n",
      "Minibatch loss at step 3000: 0.224068\n",
      "Minibatch accuracy: 93.0%\n",
      "Validation accuracy: 88.8%\n",
      "Minibatch loss at step 4000: 0.338874\n",
      "Minibatch accuracy: 90.6%\n",
      "Validation accuracy: 89.4%\n",
      "Minibatch loss at step 5000: 0.155539\n",
      "Minibatch accuracy: 93.8%\n",
      "Validation accuracy: 89.7%\n",
      "Minibatch loss at step 6000: 0.296366\n",
      "Minibatch accuracy: 89.8%\n",
      "Validation accuracy: 89.3%\n",
      "Minibatch loss at step 7000: 0.297211\n",
      "Minibatch accuracy: 88.3%\n",
      "Validation accuracy: 89.7%\n",
      "Minibatch loss at step 8000: 0.241507\n",
      "Minibatch accuracy: 89.8%\n",
      "Validation accuracy: 90.0%\n",
      "Minibatch loss at step 9000: 0.241239\n",
      "Minibatch accuracy: 93.8%\n",
      "Validation accuracy: 90.1%\n",
      "Minibatch loss at step 10000: 0.150508\n",
      "Minibatch accuracy: 95.3%\n",
      "Validation accuracy: 90.2%\n",
      "Minibatch loss at step 11000: 0.139304\n",
      "Minibatch accuracy: 93.0%\n",
      "Validation accuracy: 90.0%\n",
      "Minibatch loss at step 12000: 0.164749\n",
      "Minibatch accuracy: 92.2%\n",
      "Validation accuracy: 90.4%\n",
      "Minibatch loss at step 13000: 0.189469\n",
      "Minibatch accuracy: 93.8%\n",
      "Validation accuracy: 90.4%\n",
      "Minibatch loss at step 14000: 0.040379\n",
      "Minibatch accuracy: 99.2%\n",
      "Validation accuracy: 90.0%\n",
      "Minibatch loss at step 15000: 0.138002\n",
      "Minibatch accuracy: 96.1%\n",
      "Validation accuracy: 90.3%\n",
      "Minibatch loss at step 16000: 0.177203\n",
      "Minibatch accuracy: 93.0%\n",
      "Validation accuracy: 90.1%\n",
      "Minibatch loss at step 17000: 0.135229\n",
      "Minibatch accuracy: 95.3%\n",
      "Validation accuracy: 90.1%\n",
      "Minibatch loss at step 18000: 0.105474\n",
      "Minibatch accuracy: 97.7%\n",
      "Validation accuracy: 90.7%\n",
      "Minibatch loss at step 19000: 0.218410\n",
      "Minibatch accuracy: 94.5%\n",
      "Validation accuracy: 90.4%\n",
      "Minibatch loss at step 20000: 0.061422\n",
      "Minibatch accuracy: 98.4%\n",
      "Validation accuracy: 90.6%\n",
      "Minibatch loss at step 21000: 0.113238\n",
      "Minibatch accuracy: 98.4%\n",
      "Validation accuracy: 90.5%\n",
      "Minibatch loss at step 22000: 0.026795\n",
      "Minibatch accuracy: 100.0%\n",
      "Validation accuracy: 90.8%\n",
      "Minibatch loss at step 23000: 0.103963\n",
      "Minibatch accuracy: 98.4%\n",
      "Validation accuracy: 90.4%\n",
      "Minibatch loss at step 24000: 0.029630\n",
      "Minibatch accuracy: 98.4%\n",
      "Validation accuracy: 90.7%\n",
      "Minibatch loss at step 25000: 0.028315\n",
      "Minibatch accuracy: 99.2%\n",
      "Validation accuracy: 90.7%\n",
      "Minibatch loss at step 26000: 0.061354\n",
      "Minibatch accuracy: 97.7%\n",
      "Validation accuracy: 90.8%\n",
      "Minibatch loss at step 27000: 0.080768\n",
      "Minibatch accuracy: 97.7%\n",
      "Validation accuracy: 90.9%\n",
      "Minibatch loss at step 28000: 0.032358\n",
      "Minibatch accuracy: 98.4%\n",
      "Validation accuracy: 90.8%\n",
      "Minibatch loss at step 29000: 0.035104\n",
      "Minibatch accuracy: 99.2%\n",
      "Validation accuracy: 90.8%\n",
      "Minibatch loss at step 30000: 0.032068\n",
      "Minibatch accuracy: 99.2%\n",
      "Validation accuracy: 90.8%\n",
      "Test accuracy: 96.0%\n"
     ]
    }
   ],
   "source": [
    "# RUN \"BEST\" NN\n",
    "# NUM STEPS SEE IN GRAPH DEFINITION\n",
    "\n",
    "with tf.Session(graph=graph) as session:\n",
    "    tf.initialize_all_variables().run()\n",
    "    print(\"Initialized. Run until %d steps\" % num_steps)\n",
    "    for step in range(num_steps):\n",
    "        offset = (step * batch_size) % (train_labels.shape[0] - batch_size)\n",
    "        batch_data = train_dataset[offset:(offset + batch_size), :]\n",
    "        batch_labels = train_labels[offset:(offset + batch_size), :]\n",
    "        feed_dict = {tf_train_dataset : batch_data, tf_train_labels : batch_labels}\n",
    "        # RUN OPTIMIZATION ON LR AND NN\n",
    "        _, l, nn_pred = session.run([nn_optimizer, nn_loss, nn_train_prediction], feed_dict=feed_dict)\n",
    "        if (step % 1000 == 0):\n",
    "            print(\"Minibatch loss at step %d: %f\" % (step, l))\n",
    "            print(\"Minibatch accuracy: %.1f%%\" % accuracy(nn_pred, batch_labels))\n",
    "            print(\"Validation accuracy: %.1f%%\" % accuracy(nn_valid_prediction.eval(), valid_labels))\n",
    "    print(\"Test accuracy: %.1f%%\" % accuracy(nn_test_prediction.eval(), test_labels))\n",
    "    os.system(\"say 'dingelingeling. program finished'\")"
   ]
  }
 ],
 "metadata": {
  "colab": {
   "default_view": {},
   "name": "3_regularization.ipynb",
   "provenance": [],
   "version": "0.3.2",
   "views": {}
  },
  "kernelspec": {
   "display_name": "Python 2",
   "language": "python",
   "name": "python2"
  },
  "language_info": {
   "codemirror_mode": {
    "name": "ipython",
    "version": 2
   },
   "file_extension": ".py",
   "mimetype": "text/x-python",
   "name": "python",
   "nbconvert_exporter": "python",
   "pygments_lexer": "ipython2",
   "version": "2.7.10"
  }
 },
 "nbformat": 4,
 "nbformat_minor": 0
}
